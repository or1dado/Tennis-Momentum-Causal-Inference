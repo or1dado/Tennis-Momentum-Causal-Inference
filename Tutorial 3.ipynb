{
 "cells": [
  {
   "cell_type": "markdown",
   "metadata": {},
   "source": [
    "# Examples of ATE calculation\n",
    "\n",
    "In this notebook we'll see 3 examples of ATE calculation, and possible issues:\n",
    "1. Example where having an unmeasured hidden confounder results in misleading estimation of ATE, even when there is good prediction accuracy\n",
    "2. Example where regularzation on high dimension problem makes the estimated treatment effect in a regression model go wrong\n",
    "3. Example of training two models, one on each treatment arm, and getting estimation of ATE"
   ]
  },
  {
   "cell_type": "code",
   "execution_count": 1,
   "metadata": {
    "collapsed": true
   },
   "outputs": [],
   "source": [
    "import numpy as np\n",
    "from scipy.special import expit\n",
    "import matplotlib.pyplot as plt\n",
    "%matplotlib inline"
   ]
  },
  {
   "cell_type": "markdown",
   "metadata": {},
   "source": [
    "## Example where having an unmeasured hidden confounder results in misleading estimation of ATE, even when there is good prediction accuracy:\n",
    "\n",
    "In this example, we'll sample $n = 100000$ vectors each with $d_{obs}=50$ observed confunders, and $d_{hidden}=1$ hidden confunder ($d = d_{obs} + d_{hidden} = 51$).<br>\n",
    "The confunders are sampled from uniform distrubtion $ d_i \\sim U\\{-1,1\\} $.\n",
    "\n",
    "We also set the hidden confounder \"weight\", that we mark as $\\alpha$ (e.g. in this case we set $\\alpha = 10$)"
   ]
  },
  {
   "cell_type": "code",
   "execution_count": 2,
   "metadata": {
    "collapsed": true
   },
   "outputs": [],
   "source": [
    "n = 100000  #number of samples\n",
    "d_obs = 50 #dimension of observed counfounders\n",
    "d_hid = 1 #dimension of hidden confounders\n"
   ]
  },
  {
   "cell_type": "code",
   "execution_count": 3,
   "metadata": {
    "collapsed": true
   },
   "outputs": [],
   "source": [
    "#Confounders\n",
    "#Create observed and hidden covariates taking values in {-1,1}\n",
    "Xobs = 2*(np.random.randint(2, size=(d_obs,n)))-1\n",
    "Xhid = 2*(np.random.randint(2, size=(d_hid,n)))-1\n"
   ]
  },
  {
   "cell_type": "code",
   "execution_count": 4,
   "metadata": {
    "collapsed": true
   },
   "outputs": [],
   "source": [
    "#Hidden confounding strength parameters\n",
    "#Vary value to explore its effect: try 0,1,5,10\n",
    "alpha = 10\n",
    "hid_conf_treat = alpha\n",
    "hid_conf_outcome = alpha"
   ]
  },
  {
   "cell_type": "markdown",
   "metadata": {},
   "source": [
    "In this section we calculate the treatment assignments. <br>\n",
    "First, we estimate the propensity score : $ e(X)= P(T=1\\mid X) = \\frac{1}{1+\\exp(-l)}$   \n",
    "where $l=w_{obs} \\cdot X_{obs} + w_{hidden} \\cdot X_{hidden}$ <br>\n",
    "$w_{obs}^i = \\frac{z}{\\sqrt{d_{obs}}}  $ <br>\n",
    "$w_{hid}^i = \\alpha $ <br>\n",
    "where $z \\sim \\mathcal{N}(0,1)$ \n",
    "\n",
    "\n",
    "Than, we set the treatment assignments :\n",
    "$     T=\\left\\{\n",
    "                \\begin{array}{ll}\n",
    "                  1 & \\mathcal{u} < e(x)  \\\\\n",
    "                  0 & o.w.  \\\\\n",
    "                \\end{array}\n",
    "              \\right. $\n",
    "\n",
    "where after it, we generate the outcomes, similarly to the confounders generation.\n",
    "\n",
    "Where: <br>\n",
    "$Y_0 = w_{obs} \\cdot X_{obs}$ <br>\n",
    "$Y_1 = w_{obs} \\cdot X_{obs} + \\alpha \\cdot X_{hid}$ <br>"
   ]
  },
  {
   "cell_type": "code",
   "execution_count": 5,
   "metadata": {
    "collapsed": true
   },
   "outputs": [],
   "source": [
    "#Treatment assignemt\n",
    "obs_assignment_weights = np.random.randn(d_obs,) /np.sqrt(d_obs) \n",
    "hid_assignment_weights = hid_conf_treat*np.ones(1,)\n",
    "\n",
    "logit_propensity_score_obs = np.dot(obs_assignment_weights,Xobs)\n",
    "logit_propensity_score_hid = np.dot(hid_assignment_weights,Xhid)\n",
    "\n",
    "logit_propensity_score = logit_propensity_score_obs + logit_propensity_score_hid\n",
    "propensity_score = expit(logit_propensity_score)\n",
    "\n",
    "t = np.random.rand(n,) < propensity_score #Sample treatments"
   ]
  },
  {
   "cell_type": "code",
   "execution_count": 6,
   "metadata": {},
   "outputs": [
    {
     "data": {
      "image/png": "[encoded data removed]",
      "text/plain": [
       "<Figure size 640x480 with 1 Axes>"
      ]
     },
     "metadata": {},
     "output_type": "display_data"
    }
   ],
   "source": [
    "#Plot histogram of TRUE propensity scores (incl. hidden confounder)\n",
    "#Note how this histogram changes for various values of alpha\n",
    "treat_plt = plt.hist(propensity_score[t==1], fc=(0, 0, 1, 0.5),bins=20,label='Treated')\n",
    "cont_plt = plt.hist(propensity_score[t==0],fc=(1, 0, 0, 0.5),bins=20,label='Control')\n",
    "plt.legend();\n",
    "plt.xlabel('propensity score');\n",
    "plt.ylabel('number of units');\n",
    "\n",
    "#plt.savefig('prop_score',format='pdf')"
   ]
  },
  {
   "cell_type": "code",
   "execution_count": 7,
   "metadata": {
    "collapsed": true
   },
   "outputs": [],
   "source": [
    "#Generate outcome\n",
    "obs_outcome_weights = np.random.randn(d_obs,)/np.sqrt(d_obs)\n",
    "hid_outcome_weights = hid_conf_outcome*np.ones(1,)\n",
    "\n",
    "Y0 = np.dot(obs_outcome_weights,Xobs) \n",
    "Y1 = np.dot(obs_outcome_weights,Xobs) + np.dot(hid_outcome_weights,Xhid) \n",
    "#Note how hidden confounder acts on Y1\n",
    "\n",
    "Yobs = (1-t)*Y0 + t*Y1"
   ]
  },
  {
   "cell_type": "markdown",
   "metadata": {},
   "source": [
    "We regress on the observed confounders to get the outcome, using least-sequares method.\n",
    "\n",
    "In the example, the true $ATE=  0$. <br>\n",
    "we can estimate the true sample $ATE_{sample} = \\mathop{\\mathbb{E}}[Y_1 -Y_0]$ <br>\n",
    "and $\\widehat{ATE}$ estimated from the model is the weight of $t$ in the regressio model. \n",
    "\n",
    "\n",
    "We can see that altough the regression model is well fitted $(R^2 = 0.99)$, we got that $\\widehat{ATE}=\\alpha$ <br>\n",
    "i.e. the hidden confunder affect"
   ]
  },
  {
   "cell_type": "code",
   "execution_count": 8,
   "metadata": {
    "collapsed": true
   },
   "outputs": [],
   "source": [
    "features = np.vstack((Xobs,t))\n",
    "lin_model = np.linalg.lstsq(features.transpose(),Yobs, rcond=None)\n",
    "weights = lin_model[0]"
   ]
  },
  {
   "cell_type": "code",
   "execution_count": 9,
   "metadata": {},
   "outputs": [
    {
     "name": "stdout",
     "output_type": "stream",
     "text": [
      "estimated ATE from covariate adjustment is: \n",
      " 9.997966840814524 \n",
      "\n",
      "true sample ATE is: \n",
      " -0.0104\n",
      "true ATE is: \n",
      " 0\n"
     ]
    }
   ],
   "source": [
    "ATE_hat = weights[-1]\n",
    "ATE_sample_true = np.mean(Y1-Y0)\n",
    "\n",
    "\n",
    "print('estimated ATE from covariate adjustment is: \\n {} \\n'.format(ATE_hat))\n",
    "print('true sample ATE is: \\n {}'.format(ATE_sample_true))\n",
    "print('true ATE is: \\n {}'.format(0))"
   ]
  },
  {
   "cell_type": "code",
   "execution_count": 10,
   "metadata": {},
   "outputs": [
    {
     "name": "stdout",
     "output_type": "stream",
     "text": [
      "mean absolute Y is: \n",
      " 5.381681219161659 \n",
      "\n",
      "RMSE Yhat and Y: \n",
      " 0.14137972906349394 \n",
      "\n",
      "r^2 between Y and Yhat is: \n",
      " 0.9992297105279289 \n",
      "\n"
     ]
    }
   ],
   "source": [
    "Yhat = np.dot(weights,features)\n",
    "mean_abs_Y = np.mean(np.abs(Yobs))\n",
    "RMSE = np.sqrt(np.mean((Yhat-Yobs)**2)) \n",
    "corrYYhat = np.corrcoef(Yobs,Yhat)[0,1]\n",
    "\n",
    "print ('mean absolute Y is: \\n {} \\n'.format(mean_abs_Y))\n",
    "print ('RMSE Yhat and Y: \\n {} \\n'.format(RMSE))\n",
    "print ('r^2 between Y and Yhat is: \\n {} \\n'.format(corrYYhat**2))"
   ]
  },
  {
   "cell_type": "code",
   "execution_count": 11,
   "metadata": {},
   "outputs": [
    {
     "data": {
      "image/png": "[encoded data removed]",
      "text/plain": [
       "<Figure size 640x480 with 1 Axes>"
      ]
     },
     "metadata": {},
     "output_type": "display_data"
    }
   ],
   "source": [
    "plt.scatter(Yobs, Yhat);"
   ]
  },
  {
   "cell_type": "markdown",
   "metadata": {},
   "source": [
    "## Example where regularzation on high dimension problem makes the estimated treatment effect in a regression model go wrong\n",
    "\n",
    "in here the sampled confounders vector consist only from observed confoundrs ($d = d_{obs} = 500$), \n",
    "where the confunders are sampled from uniform distrubtion $ d_i \\sim U\\{-5,5\\} $.\n",
    "\n",
    "The treatment assigment and the outcomes genrated as in the first part, <br>\n",
    "where the only different is the treatment effect is fixed to be 0.3\n"
   ]
  },
  {
   "cell_type": "code",
   "execution_count": 12,
   "metadata": {
    "collapsed": true
   },
   "outputs": [],
   "source": [
    "d_obs = 500 #dimension of observed counfounders\n",
    "\n",
    "#Confounders\n",
    "#Create observed covariates taking values in {-5, 5}\n",
    "Xobs = 2*(np.random.randint(6, size=(d_obs,n)))-5\n"
   ]
  },
  {
   "cell_type": "code",
   "execution_count": 13,
   "metadata": {
    "collapsed": true
   },
   "outputs": [],
   "source": [
    "#Treatment assignemt\n",
    "obs_assignment_weights = np.random.randn(d_obs,) /np.sqrt(d_obs) \n",
    "\n",
    "logit_propensity_score_obs = np.dot(obs_assignment_weights,Xobs)\n",
    "\n",
    "logit_propensity_score = logit_propensity_score_obs\n",
    "propensity_score = expit(logit_propensity_score)\n",
    "\n",
    "t = np.random.rand(n,) < propensity_score #Sample treatments"
   ]
  },
  {
   "cell_type": "code",
   "execution_count": 14,
   "metadata": {},
   "outputs": [
    {
     "data": {
      "image/png": "[encoded data removed]",
      "text/plain": [
       "<Figure size 640x480 with 1 Axes>"
      ]
     },
     "metadata": {},
     "output_type": "display_data"
    }
   ],
   "source": [
    "#Plot histogram of TRUE propensity scores\n",
    "treat_plt = plt.hist(propensity_score[t==1], fc=(0, 0, 1, 0.5),bins=20,label='Treated')\n",
    "cont_plt = plt.hist(propensity_score[t==0],fc=(1, 0, 0, 0.5),bins=20,label='Control')\n",
    "plt.legend();\n",
    "plt.xlabel('propensity score');\n",
    "plt.ylabel('number of units');"
   ]
  },
  {
   "cell_type": "code",
   "execution_count": 15,
   "metadata": {
    "collapsed": true
   },
   "outputs": [],
   "source": [
    "#Generate outcome\n",
    "obs_outcome_weights = np.random.randn(d_obs,)/np.sqrt(d_obs)\n",
    "\n",
    "treat_effect = 0.3 \n",
    "\n",
    "Y0 = np.dot(obs_outcome_weights,Xobs) \n",
    "Y1 = np.dot(obs_outcome_weights,Xobs) + treat_effect\n",
    "#Note how hidden confounder acts on Y1\n",
    "\n",
    "Yobs = (1-t)*Y0 + t*Y1\n",
    "\n",
    "features = np.vstack((Xobs,t))\n"
   ]
  },
  {
   "cell_type": "markdown",
   "metadata": {},
   "source": [
    "Using Lasso regression, with L1 regularizer (with $\\alpha = 0.1$) <br>\n",
    "\n",
    "Where we can see that the model predicts really well ($R^2 = 0.97$),<br>\n",
    "but again we got $\\widehat{ATE}=0$ (due to regularization)\n"
   ]
  },
  {
   "cell_type": "code",
   "execution_count": 16,
   "metadata": {
    "collapsed": true
   },
   "outputs": [],
   "source": [
    "from sklearn.linear_model import Lasso\n",
    "\n",
    "lasso_reg = Lasso(alpha=0.1)\n",
    "\n",
    "lasso_reg.fit(features.transpose(), Yobs);\n",
    "weights = lasso_reg.coef_;\n"
   ]
  },
  {
   "cell_type": "code",
   "execution_count": 17,
   "metadata": {},
   "outputs": [
    {
     "name": "stdout",
     "output_type": "stream",
     "text": [
      "The R^2 of the prediction: 0.97 \n"
     ]
    }
   ],
   "source": [
    "y_hat = lasso_reg.predict(features.transpose())\n",
    "\n",
    "print(\"The R^2 of the prediction: {:.2} \".format(lasso_reg.score(features.transpose(), Yobs)))\n",
    "\n"
   ]
  },
  {
   "cell_type": "code",
   "execution_count": 18,
   "metadata": {},
   "outputs": [
    {
     "data": {
      "image/png": "[encoded data removed]",
      "text/plain": [
       "<Figure size 640x480 with 1 Axes>"
      ]
     },
     "metadata": {},
     "output_type": "display_data"
    }
   ],
   "source": [
    "plt.scatter(Yobs, y_hat);\n"
   ]
  },
  {
   "cell_type": "code",
   "execution_count": 19,
   "metadata": {},
   "outputs": [
    {
     "name": "stdout",
     "output_type": "stream",
     "text": [
      "estimated ATE from covariate adjustment is: \n",
      " 0.0 \n",
      "\n",
      "true sample ATE is: \n",
      " 0.2999999999999999\n",
      "true ATE is: \n",
      " 0.3\n"
     ]
    }
   ],
   "source": [
    "ATE_hat = weights[-1]\n",
    "ATE_sample_true = np.mean(Y1-Y0)\n",
    "\n",
    "\n",
    "print('estimated ATE from covariate adjustment is: \\n {} \\n'.format(ATE_hat))\n",
    "print('true sample ATE is: \\n {}'.format(ATE_sample_true))\n",
    "print('true ATE is: \\n {}'.format(treat_effect))"
   ]
  },
  {
   "cell_type": "markdown",
   "metadata": {},
   "source": [
    "## Example of training two models, one on each treatment arm, and getting estimation of ATE\n",
    "\n",
    "In this section, we can see an example where we use the same high dimentional probelm as above. <br>\n",
    "The difference is that now we train two Lasso models $(f_0, f_1)$, one for each group $(T=0, T=1)$.\n",
    "\n",
    "We will fit each model using samples from the corresponding group <br>\n",
    "i.e. we train $f_1(x_1)$, where $ x_1 = \\{x_i \\mid t_i =1\\} $ (similar with $f_0$). \n",
    "\n",
    "And then, we predict the outcome using the trained model, on all of the samples. $(Y_1 = f_1(x), Y_0=f_0(x))$ <br>\n",
    "Finaly, we calculate $\\widehat{ATE} = \\mathop{\\mathbb{E}}[Y_1 -Y_0]$ and we get a baised estimate of the ATE."
   ]
  },
  {
   "cell_type": "code",
   "execution_count": 20,
   "metadata": {
    "collapsed": true
   },
   "outputs": [],
   "source": [
    "lasso_0 = Lasso(alpha=0.1)\n",
    "lasso_1 = Lasso(alpha=0.1)\n",
    "\n",
    "x_0 = Xobs[:,np.where(t==0)].reshape(d_obs,-1)\n",
    "x_1 = Xobs[:,np.where(t==1)].reshape(d_obs,-1)\n",
    "\n",
    "lasso_0.fit(x_0.transpose(), Yobs[np.where(t==0)].transpose());\n",
    "lasso_1.fit(x_1.transpose(), Yobs[np.where(t==1)].transpose());\n"
   ]
  },
  {
   "cell_type": "code",
   "execution_count": 21,
   "metadata": {},
   "outputs": [
    {
     "name": "stdout",
     "output_type": "stream",
     "text": [
      "estimated ATE from covariate adjustment is: \n",
      " 0.2649946226449758 \n",
      "\n",
      "true sample ATE is: \n",
      " 0.2999999999999999\n",
      "true ATE is: \n",
      " 0.3\n"
     ]
    }
   ],
   "source": [
    "y0 = lasso_0.predict(Xobs.transpose())\n",
    "y1 = lasso_1.predict(Xobs.transpose())\n",
    "\n",
    "ATE_hat = np.mean(y1-y0)\n",
    "\n",
    "\n",
    "print('estimated ATE from covariate adjustment is: \\n {} \\n'.format(ATE_hat))\n",
    "print('true sample ATE is: \\n {}'.format(ATE_sample_true))\n",
    "print('true ATE is: \\n {}'.format(treat_effect))"
   ]
  },
  {
   "cell_type": "code",
   "execution_count": null,
   "metadata": {},
   "outputs": [],
   "source": []
  },
  {
   "cell_type": "code",
   "execution_count": null,
   "metadata": {},
   "outputs": [],
   "source": []
  },
  {
   "cell_type": "code",
   "execution_count": null,
   "metadata": {},
   "outputs": [],
   "source": []
  }
 ],
 "metadata": {
  "kernelspec": {
   "display_name": "Python 3",
   "language": "python",
   "name": "python3"
  },
  "language_info": {
   "codemirror_mode": {
    "name": "ipython",
    "version": 3
   },
   "file_extension": ".py",
   "mimetype": "text/x-python",
   "name": "python",
   "nbconvert_exporter": "python",
   "pygments_lexer": "ipython3",
   "version": "3.9.2"
  }
 },
 "nbformat": 4,
 "nbformat_minor": 2
}
